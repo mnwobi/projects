{
 "cells": [
  {
   "cell_type": "markdown",
   "metadata": {},
   "source": [
    "# DDInter Data Processing\n",
    "\n",
    "This Jupyter notebook processes drug interaction data from the DDInter database. The dataset, `dd_inter_downloads_code_A.csv`, is sourced from [DDInter](https://ddinter.scbdd.com/static/media/download/ddinter_downloads_code_A.csv).\n",
    "\n",
    "## Description\n",
    "\n",
    "The notebook performs the following tasks:\n",
    "\n",
    "1. Loads the dataset using pandas\n",
    "2. Explores the data structure and content\n",
    "3. Identifies and removes rows with 'Unknown' interactions\n",
    "4. Extracts all unique drug names into a list from both columns: Drug_A and Drug_B\n",
    "5. Queries the related CID values for every drug name\n",
    "6. Creates a DataFrame that stores every drug name with its corresponding CID values\n",
    "7. Saves this DataFrame as a CSV file\n",
    "8. Creates a separate DataFrame containing only the CID values\n",
    "9. Saves the CID-only DataFrame as a CSV file for querying on the PubChem website (https://pubchem.ncbi.nlm.nih.gov/)\n",
    "10. Prepares the data for further analysis and machine learning modeling\n",
    "\n",
    "By removing the 'Unknown' interactions, we ensure that our dataset contains only well-defined drug interactions, which is crucial for building an accurate machine learning model. The creation of separate CSV files for drug names with CIDs and CIDs alone facilitates easier querying and analysis of the chemical compounds involved in the interactions, both locally and on the PubChem website.\n",
    "\n",
    "Citations:\n",
    "[1] https://ppl-ai-file-upload.s3.amazonaws.com/web/direct-files/43483989/4d7c7aff-11ae-47a1-ace5-513973556ae6/pubchempy.py\n",
    "[2] https://ddinter.scbdd.com/static/media/download/ddi"
   ]
  },
  {
   "cell_type": "code",
   "execution_count": 16,
   "metadata": {},
   "outputs": [],
   "source": [
    "import pubchempy as pcp\n",
    "import pandas as pd\n"
   ]
  },
  {
   "cell_type": "code",
   "execution_count": null,
   "metadata": {},
   "outputs": [],
   "source": [
    "# Load the CSV file into a DataFrame\n",
    "file_path = 'data/ddinter_downloads_code_A.csv'\n",
    "df = pd.read_csv(file_path)\n"
   ]
  },
  {
   "cell_type": "code",
   "execution_count": 42,
   "metadata": {},
   "outputs": [
    {
     "name": "stdout",
     "output_type": "stream",
     "text": [
      "DataFrame shape: (56367, 5)\n"
     ]
    }
   ],
   "source": [
    "# Print basic info about the dataset\n",
    "print(f\"DataFrame shape: {df.shape}\")\n"
   ]
  },
  {
   "cell_type": "code",
   "execution_count": 40,
   "metadata": {},
   "outputs": [
    {
     "name": "stdout",
     "output_type": "stream",
     "text": [
      "   DDInterID_A              Drug_A  DDInterID_B        Drug_B     Level\n",
      "0  DDInter1263          Naltrexone     DDInter1      Abacavir  Moderate\n",
      "1     DDInter1            Abacavir  DDInter1348      Orlistat  Moderate\n",
      "2    DDInter58  Aluminum hydroxide   DDInter582  Dolutegravir     Major\n",
      "3   DDInter112          Aprepitant   DDInter582  Dolutegravir     Minor\n",
      "4   DDInter138         Attapulgite   DDInter582  Dolutegravir     Major\n"
     ]
    }
   ],
   "source": [
    "print(df.head())"
   ]
  },
  {
   "cell_type": "code",
   "execution_count": 41,
   "metadata": {},
   "outputs": [
    {
     "data": {
      "text/plain": [
       "array(['Moderate', 'Major', 'Minor', 'Unknown'], dtype=object)"
      ]
     },
     "execution_count": 41,
     "metadata": {},
     "output_type": "execute_result"
    }
   ],
   "source": [
    "# Levels of interaction\n",
    "unique_levels = df.Level.unique()\n",
    "unique_levels"
   ]
  },
  {
   "cell_type": "code",
   "execution_count": 43,
   "metadata": {},
   "outputs": [],
   "source": [
    "# Drop the interactions whose level is unknown\n",
    "df = df.drop(df[df.Level == 'Unknown'].index)"
   ]
  },
  {
   "cell_type": "code",
   "execution_count": 45,
   "metadata": {},
   "outputs": [
    {
     "name": "stdout",
     "output_type": "stream",
     "text": [
      "DataFrame shape: (41600, 5)\n"
     ]
    }
   ],
   "source": [
    "# Check the resulting shape of the data frame\n",
    "print(f\"DataFrame shape: {df.shape}\")"
   ]
  },
  {
   "cell_type": "code",
   "execution_count": null,
   "metadata": {},
   "outputs": [
    {
     "name": "stdout",
     "output_type": "stream",
     "text": [
      "Unique drug names extracted: 1757\n"
     ]
    }
   ],
   "source": [
    "# Combine unique drug names\n",
    "unique_drugs = pd.concat([df['Drug_A'], df['Drug_B']]).unique()\n",
    "print(f\"Unique drug names extracted: {len(unique_drugs)}\")"
   ]
  },
  {
   "cell_type": "code",
   "execution_count": null,
   "metadata": {},
   "outputs": [],
   "source": [
    "# Function to fetch CIDs\n",
    "def fetch_cids(drug_name):\n",
    "    try:\n",
    "        # print(f\"Querying PubChem for: {drug_name}\")\n",
    "        cids = pcp.get_cids(drug_name, 'name', 'substance', list_return='flat')\n",
    "        return list(map(int, cids)) if cids else []\n",
    "    except Exception as e:\n",
    "        # print(f\"Error fetching CID for {drug_name}: {e}\")\n",
    "        return [f\"Error: {e}\"]\n",
    "\n",
    "# Fetch CIDs for all test drugs\n",
    "drug_cids = {drug: fetch_cids(drug) for drug in unique_drugs}\n",
    "\n"
   ]
  },
  {
   "cell_type": "code",
   "execution_count": 29,
   "metadata": {},
   "outputs": [],
   "source": [
    "# Convert results to DataFrame\n",
    "drug_cids_df = pd.DataFrame(list(drug_cids.items()), columns=[\"Drug Name\", \"CIDs\"]).explode(\"CIDs\")\n",
    "drug_cids_df[\"CIDs\"] = pd.to_numeric(drug_cids_df[\"CIDs\"], errors=\"coerce\").astype(\"Int64\")  # Ensure numeric CIDs\n",
    "\n"
   ]
  },
  {
   "cell_type": "code",
   "execution_count": 30,
   "metadata": {},
   "outputs": [
    {
     "data": {
      "text/html": [
       "<div>\n",
       "<style scoped>\n",
       "    .dataframe tbody tr th:only-of-type {\n",
       "        vertical-align: middle;\n",
       "    }\n",
       "\n",
       "    .dataframe tbody tr th {\n",
       "        vertical-align: top;\n",
       "    }\n",
       "\n",
       "    .dataframe thead th {\n",
       "        text-align: right;\n",
       "    }\n",
       "</style>\n",
       "<table border=\"1\" class=\"dataframe\">\n",
       "  <thead>\n",
       "    <tr style=\"text-align: right;\">\n",
       "      <th></th>\n",
       "      <th>Drug Name</th>\n",
       "      <th>CIDs</th>\n",
       "    </tr>\n",
       "  </thead>\n",
       "  <tbody>\n",
       "    <tr>\n",
       "      <th>0</th>\n",
       "      <td>Naltrexone</td>\n",
       "      <td>4428</td>\n",
       "    </tr>\n",
       "    <tr>\n",
       "      <th>0</th>\n",
       "      <td>Naltrexone</td>\n",
       "      <td>5360515</td>\n",
       "    </tr>\n",
       "    <tr>\n",
       "      <th>0</th>\n",
       "      <td>Naltrexone</td>\n",
       "      <td>5702239</td>\n",
       "    </tr>\n",
       "    <tr>\n",
       "      <th>0</th>\n",
       "      <td>Naltrexone</td>\n",
       "      <td>6321302</td>\n",
       "    </tr>\n",
       "    <tr>\n",
       "      <th>0</th>\n",
       "      <td>Naltrexone</td>\n",
       "      <td>6604527</td>\n",
       "    </tr>\n",
       "  </tbody>\n",
       "</table>\n",
       "</div>"
      ],
      "text/plain": [
       "    Drug Name     CIDs\n",
       "0  Naltrexone     4428\n",
       "0  Naltrexone  5360515\n",
       "0  Naltrexone  5702239\n",
       "0  Naltrexone  6321302\n",
       "0  Naltrexone  6604527"
      ]
     },
     "execution_count": 30,
     "metadata": {},
     "output_type": "execute_result"
    }
   ],
   "source": [
    "drug_cids_df.head()"
   ]
  },
  {
   "cell_type": "code",
   "execution_count": 31,
   "metadata": {},
   "outputs": [
    {
     "data": {
      "text/plain": [
       "(11783, 2)"
      ]
     },
     "execution_count": 31,
     "metadata": {},
     "output_type": "execute_result"
    }
   ],
   "source": [
    "drug_cids_df.shape"
   ]
  },
  {
   "cell_type": "code",
   "execution_count": 32,
   "metadata": {},
   "outputs": [
    {
     "name": "stdout",
     "output_type": "stream",
     "text": [
      "CIDs saved to 'data/drug_cids.csv'\n"
     ]
    }
   ],
   "source": [
    "# Save intermediate CID results\n",
    "drug_cids_df.to_csv(\"data/drug_cids.csv\", index=False)\n",
    "print(\"CIDs saved to 'data/drug_cids.csv'\")\n"
   ]
  },
  {
   "cell_type": "code",
   "execution_count": 39,
   "metadata": {},
   "outputs": [],
   "source": [
    "# Get the CIDs\n",
    "cids = drug_cids_df[\"CIDs\"].dropna()\n",
    "cids.to_csv(\"data/cids.csv\", index=False, header=False)"
   ]
  }
 ],
 "metadata": {
  "kernelspec": {
   "display_name": "balancium-rx",
   "language": "python",
   "name": "python3"
  },
  "language_info": {
   "codemirror_mode": {
    "name": "ipython",
    "version": 3
   },
   "file_extension": ".py",
   "mimetype": "text/x-python",
   "name": "python",
   "nbconvert_exporter": "python",
   "pygments_lexer": "ipython3",
   "version": "3.12.7"
  }
 },
 "nbformat": 4,
 "nbformat_minor": 2
}
